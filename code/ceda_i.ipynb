{
 "cells": [
  {
   "cell_type": "code",
   "execution_count": 1,
   "id": "78da1983",
   "metadata": {},
   "outputs": [],
   "source": [
    "import pandas as pd\n",
    "import numpy as np"
   ]
  },
  {
   "cell_type": "code",
   "execution_count": 2,
   "id": "dcad048c",
   "metadata": {},
   "outputs": [
    {
     "name": "stdout",
     "output_type": "stream",
     "text": [
      "(76518, 38)\n"
     ]
    },
    {
     "data": {
      "text/html": [
       "<div>\n",
       "<style scoped>\n",
       "    .dataframe tbody tr th:only-of-type {\n",
       "        vertical-align: middle;\n",
       "    }\n",
       "\n",
       "    .dataframe tbody tr th {\n",
       "        vertical-align: top;\n",
       "    }\n",
       "\n",
       "    .dataframe thead th {\n",
       "        text-align: right;\n",
       "    }\n",
       "</style>\n",
       "<table border=\"1\" class=\"dataframe\">\n",
       "  <thead>\n",
       "    <tr style=\"text-align: right;\">\n",
       "      <th></th>\n",
       "      <th>id</th>\n",
       "      <th>Marital status</th>\n",
       "      <th>Application mode</th>\n",
       "      <th>Application order</th>\n",
       "      <th>Course</th>\n",
       "      <th>Daytime/evening attendance</th>\n",
       "      <th>Previous qualification</th>\n",
       "      <th>Previous qualification (grade)</th>\n",
       "      <th>Nacionality</th>\n",
       "      <th>Mother's qualification</th>\n",
       "      <th>...</th>\n",
       "      <th>Curricular units 2nd sem (credited)</th>\n",
       "      <th>Curricular units 2nd sem (enrolled)</th>\n",
       "      <th>Curricular units 2nd sem (evaluations)</th>\n",
       "      <th>Curricular units 2nd sem (approved)</th>\n",
       "      <th>Curricular units 2nd sem (grade)</th>\n",
       "      <th>Curricular units 2nd sem (without evaluations)</th>\n",
       "      <th>Unemployment rate</th>\n",
       "      <th>Inflation rate</th>\n",
       "      <th>GDP</th>\n",
       "      <th>Target</th>\n",
       "    </tr>\n",
       "  </thead>\n",
       "  <tbody>\n",
       "    <tr>\n",
       "      <th>0</th>\n",
       "      <td>0</td>\n",
       "      <td>1</td>\n",
       "      <td>1</td>\n",
       "      <td>1</td>\n",
       "      <td>9238</td>\n",
       "      <td>1</td>\n",
       "      <td>1</td>\n",
       "      <td>126.0</td>\n",
       "      <td>1</td>\n",
       "      <td>1</td>\n",
       "      <td>...</td>\n",
       "      <td>0</td>\n",
       "      <td>6</td>\n",
       "      <td>7</td>\n",
       "      <td>6</td>\n",
       "      <td>12.428571</td>\n",
       "      <td>0</td>\n",
       "      <td>11.1</td>\n",
       "      <td>0.6</td>\n",
       "      <td>2.02</td>\n",
       "      <td>Graduate</td>\n",
       "    </tr>\n",
       "    <tr>\n",
       "      <th>1</th>\n",
       "      <td>1</td>\n",
       "      <td>1</td>\n",
       "      <td>17</td>\n",
       "      <td>1</td>\n",
       "      <td>9238</td>\n",
       "      <td>1</td>\n",
       "      <td>1</td>\n",
       "      <td>125.0</td>\n",
       "      <td>1</td>\n",
       "      <td>19</td>\n",
       "      <td>...</td>\n",
       "      <td>0</td>\n",
       "      <td>6</td>\n",
       "      <td>9</td>\n",
       "      <td>0</td>\n",
       "      <td>0.000000</td>\n",
       "      <td>0</td>\n",
       "      <td>11.1</td>\n",
       "      <td>0.6</td>\n",
       "      <td>2.02</td>\n",
       "      <td>Dropout</td>\n",
       "    </tr>\n",
       "    <tr>\n",
       "      <th>2</th>\n",
       "      <td>2</td>\n",
       "      <td>1</td>\n",
       "      <td>17</td>\n",
       "      <td>2</td>\n",
       "      <td>9254</td>\n",
       "      <td>1</td>\n",
       "      <td>1</td>\n",
       "      <td>137.0</td>\n",
       "      <td>1</td>\n",
       "      <td>3</td>\n",
       "      <td>...</td>\n",
       "      <td>0</td>\n",
       "      <td>6</td>\n",
       "      <td>0</td>\n",
       "      <td>0</td>\n",
       "      <td>0.000000</td>\n",
       "      <td>0</td>\n",
       "      <td>16.2</td>\n",
       "      <td>0.3</td>\n",
       "      <td>-0.92</td>\n",
       "      <td>Dropout</td>\n",
       "    </tr>\n",
       "    <tr>\n",
       "      <th>3</th>\n",
       "      <td>3</td>\n",
       "      <td>1</td>\n",
       "      <td>1</td>\n",
       "      <td>3</td>\n",
       "      <td>9500</td>\n",
       "      <td>1</td>\n",
       "      <td>1</td>\n",
       "      <td>131.0</td>\n",
       "      <td>1</td>\n",
       "      <td>19</td>\n",
       "      <td>...</td>\n",
       "      <td>0</td>\n",
       "      <td>8</td>\n",
       "      <td>11</td>\n",
       "      <td>7</td>\n",
       "      <td>12.820000</td>\n",
       "      <td>0</td>\n",
       "      <td>11.1</td>\n",
       "      <td>0.6</td>\n",
       "      <td>2.02</td>\n",
       "      <td>Enrolled</td>\n",
       "    </tr>\n",
       "    <tr>\n",
       "      <th>4</th>\n",
       "      <td>4</td>\n",
       "      <td>1</td>\n",
       "      <td>1</td>\n",
       "      <td>2</td>\n",
       "      <td>9500</td>\n",
       "      <td>1</td>\n",
       "      <td>1</td>\n",
       "      <td>132.0</td>\n",
       "      <td>1</td>\n",
       "      <td>19</td>\n",
       "      <td>...</td>\n",
       "      <td>0</td>\n",
       "      <td>7</td>\n",
       "      <td>12</td>\n",
       "      <td>6</td>\n",
       "      <td>12.933333</td>\n",
       "      <td>0</td>\n",
       "      <td>7.6</td>\n",
       "      <td>2.6</td>\n",
       "      <td>0.32</td>\n",
       "      <td>Graduate</td>\n",
       "    </tr>\n",
       "  </tbody>\n",
       "</table>\n",
       "<p>5 rows × 38 columns</p>\n",
       "</div>"
      ],
      "text/plain": [
       "   id  Marital status  Application mode  Application order  Course  \\\n",
       "0   0               1                 1                  1    9238   \n",
       "1   1               1                17                  1    9238   \n",
       "2   2               1                17                  2    9254   \n",
       "3   3               1                 1                  3    9500   \n",
       "4   4               1                 1                  2    9500   \n",
       "\n",
       "   Daytime/evening attendance  Previous qualification  \\\n",
       "0                           1                       1   \n",
       "1                           1                       1   \n",
       "2                           1                       1   \n",
       "3                           1                       1   \n",
       "4                           1                       1   \n",
       "\n",
       "   Previous qualification (grade)  Nacionality  Mother's qualification  ...  \\\n",
       "0                           126.0            1                       1  ...   \n",
       "1                           125.0            1                      19  ...   \n",
       "2                           137.0            1                       3  ...   \n",
       "3                           131.0            1                      19  ...   \n",
       "4                           132.0            1                      19  ...   \n",
       "\n",
       "   Curricular units 2nd sem (credited)  Curricular units 2nd sem (enrolled)  \\\n",
       "0                                    0                                    6   \n",
       "1                                    0                                    6   \n",
       "2                                    0                                    6   \n",
       "3                                    0                                    8   \n",
       "4                                    0                                    7   \n",
       "\n",
       "   Curricular units 2nd sem (evaluations)  \\\n",
       "0                                       7   \n",
       "1                                       9   \n",
       "2                                       0   \n",
       "3                                      11   \n",
       "4                                      12   \n",
       "\n",
       "   Curricular units 2nd sem (approved)  Curricular units 2nd sem (grade)  \\\n",
       "0                                    6                         12.428571   \n",
       "1                                    0                          0.000000   \n",
       "2                                    0                          0.000000   \n",
       "3                                    7                         12.820000   \n",
       "4                                    6                         12.933333   \n",
       "\n",
       "   Curricular units 2nd sem (without evaluations)  Unemployment rate  \\\n",
       "0                                               0               11.1   \n",
       "1                                               0               11.1   \n",
       "2                                               0               16.2   \n",
       "3                                               0               11.1   \n",
       "4                                               0                7.6   \n",
       "\n",
       "   Inflation rate   GDP    Target  \n",
       "0             0.6  2.02  Graduate  \n",
       "1             0.6  2.02   Dropout  \n",
       "2             0.3 -0.92   Dropout  \n",
       "3             0.6  2.02  Enrolled  \n",
       "4             2.6  0.32  Graduate  \n",
       "\n",
       "[5 rows x 38 columns]"
      ]
     },
     "execution_count": 2,
     "metadata": {},
     "output_type": "execute_result"
    }
   ],
   "source": [
    "df = pd.read_csv('../data/train.csv')\n",
    "print(df.shape)\n",
    "df.head()"
   ]
  },
  {
   "cell_type": "code",
   "execution_count": 18,
   "id": "ea098bf9",
   "metadata": {},
   "outputs": [
    {
     "data": {
      "text/plain": [
       "Index(['id', 'marital_status', 'application_mode', 'application_order',\n",
       "       'course', 'daytime/evening_attendance', 'previous_qualification',\n",
       "       'previous_qualification_(grade)', 'nacionality',\n",
       "       'mother's_qualification', 'father's_qualification',\n",
       "       'mother's_occupation', 'father's_occupation', 'admission_grade',\n",
       "       'displaced', 'educational_special_needs', 'debtor',\n",
       "       'tuition_fees_up_to_date', 'gender', 'scholarship_holder',\n",
       "       'age_at_enrollment', 'international',\n",
       "       'curricular_units_1st_sem_(credited)',\n",
       "       'curricular_units_1st_sem_(enrolled)',\n",
       "       'curricular_units_1st_sem_(evaluations)',\n",
       "       'curricular_units_1st_sem_(approved)',\n",
       "       'curricular_units_1st_sem_(grade)',\n",
       "       'curricular_units_1st_sem_(without_evaluations)',\n",
       "       'curricular_units_2nd_sem_(credited)',\n",
       "       'curricular_units_2nd_sem_(enrolled)',\n",
       "       'curricular_units_2nd_sem_(evaluations)',\n",
       "       'curricular_units_2nd_sem_(approved)',\n",
       "       'curricular_units_2nd_sem_(grade)',\n",
       "       'curricular_units_2nd_sem_(without_evaluations)', 'unemployment_rate',\n",
       "       'inflation_rate', 'gdp', 'target'],\n",
       "      dtype='object')"
      ]
     },
     "execution_count": 18,
     "metadata": {},
     "output_type": "execute_result"
    }
   ],
   "source": [
    "df.columns = df.columns.str.lower().str.replace(' ', '_').str.replace('.', '')\n",
    "\n",
    "df.columns\n",
    "\n",
    "#Phew, found the original website."
   ]
  },
  {
   "cell_type": "code",
   "execution_count": 13,
   "id": "02d1c056",
   "metadata": {},
   "outputs": [
    {
     "name": "stdout",
     "output_type": "stream",
     "text": [
      "Target is actually an object.\n"
     ]
    }
   ],
   "source": [
    "for i in df.columns:\n",
    "    if df[i].dtypes == 'object':\n",
    "        print(f\"{i} is actually an object.\")"
   ]
  },
  {
   "cell_type": "markdown",
   "id": "24d8e149",
   "metadata": {},
   "source": [
    "Hmm, so everything else looks like it'll be some numeric value (inc. booleans). That will make things easier. Reminder to when we're cleaning up the data to convert target to a numeric representation."
   ]
  },
  {
   "cell_type": "code",
   "execution_count": 15,
   "id": "262cff0a",
   "metadata": {},
   "outputs": [
    {
     "name": "stdout",
     "output_type": "stream",
     "text": [
      "Well, id has 76518 unique fields, so we'll keep it...for now!\n",
      "Well, Marital status has 6 unique fields, so we'll keep it...for now!\n",
      "Well, Application mode has 22 unique fields, so we'll keep it...for now!\n",
      "Well, Application order has 8 unique fields, so we'll keep it...for now!\n",
      "Well, Course has 19 unique fields, so we'll keep it...for now!\n",
      "Well, Daytime/evening attendance has 2 unique fields, so we'll keep it...for now!\n",
      "Well, Previous qualification has 21 unique fields, so we'll keep it...for now!\n",
      "Well, Previous qualification (grade) has 110 unique fields, so we'll keep it...for now!\n",
      "Well, Nacionality has 18 unique fields, so we'll keep it...for now!\n",
      "Well, Mother's qualification has 35 unique fields, so we'll keep it...for now!\n",
      "Well, Father's qualification has 39 unique fields, so we'll keep it...for now!\n",
      "Well, Mother's occupation has 40 unique fields, so we'll keep it...for now!\n",
      "Well, Father's occupation has 56 unique fields, so we'll keep it...for now!\n",
      "Well, Admission grade has 668 unique fields, so we'll keep it...for now!\n",
      "Well, Displaced has 2 unique fields, so we'll keep it...for now!\n",
      "Well, Educational special needs has 2 unique fields, so we'll keep it...for now!\n",
      "Well, Debtor has 2 unique fields, so we'll keep it...for now!\n",
      "Well, Tuition fees up to date has 2 unique fields, so we'll keep it...for now!\n",
      "Well, Gender has 2 unique fields, so we'll keep it...for now!\n",
      "Well, Scholarship holder has 2 unique fields, so we'll keep it...for now!\n",
      "Well, Age at enrollment has 46 unique fields, so we'll keep it...for now!\n",
      "Well, International has 2 unique fields, so we'll keep it...for now!\n",
      "Well, Curricular units 1st sem (credited) has 21 unique fields, so we'll keep it...for now!\n",
      "Well, Curricular units 1st sem (enrolled) has 24 unique fields, so we'll keep it...for now!\n",
      "Well, Curricular units 1st sem (evaluations) has 36 unique fields, so we'll keep it...for now!\n",
      "Well, Curricular units 1st sem (approved) has 23 unique fields, so we'll keep it...for now!\n",
      "Well, Curricular units 1st sem (grade) has 1206 unique fields, so we'll keep it...for now!\n",
      "Well, Curricular units 1st sem (without evaluations) has 12 unique fields, so we'll keep it...for now!\n",
      "Well, Curricular units 2nd sem (credited) has 20 unique fields, so we'll keep it...for now!\n",
      "Well, Curricular units 2nd sem (enrolled) has 22 unique fields, so we'll keep it...for now!\n",
      "Well, Curricular units 2nd sem (evaluations) has 31 unique fields, so we'll keep it...for now!\n",
      "Well, Curricular units 2nd sem (approved) has 21 unique fields, so we'll keep it...for now!\n",
      "Well, Curricular units 2nd sem (grade) has 1234 unique fields, so we'll keep it...for now!\n",
      "Well, Curricular units 2nd sem (without evaluations) has 11 unique fields, so we'll keep it...for now!\n",
      "Well, Unemployment rate has 11 unique fields, so we'll keep it...for now!\n",
      "Well, Inflation rate has 13 unique fields, so we'll keep it...for now!\n",
      "Well, GDP has 11 unique fields, so we'll keep it...for now!\n",
      "Well, Target has 3 unique fields, so we'll keep it...for now!\n"
     ]
    }
   ],
   "source": [
    "exceptions = ['id']\n",
    "\n",
    "for i in df.columns:\n",
    "    if len(df[i].unique()) == df.shape[0] and i not in exceptions:\n",
    "        df = df.drop([i], axis=1) #Not adding anything to our model... Hmm, now that I think about it, let's make this better:\n",
    "        print(f\"Just dropped {i} as it wasn't adding any value whatsoever to our model.\")\n",
    "    else:\n",
    "        print(f\"Well, {i} has {len(df[i].unique())} unique fields, so we'll keep it...for now!\")"
   ]
  },
  {
   "cell_type": "markdown",
   "id": "da30e151",
   "metadata": {},
   "source": [
    "Decent amount of unique fields for each one. Recall that we have 76k data points to work it, so expecting/hoping to see overwhelmingmajority of them to have recent representation."
   ]
  },
  {
   "cell_type": "code",
   "execution_count": 27,
   "id": "2722077a",
   "metadata": {},
   "outputs": [
    {
     "name": "stdout",
     "output_type": "stream",
     "text": [
      "Phew, no nulls.\n"
     ]
    }
   ],
   "source": [
    "if sum(df.isnull().sum())==0:\n",
    "    print(\"Phew, no nulls.\")\n",
    "else:\n",
    "    print(df.columns[df.isnull().any()]) #Should be done with general stuff. Onto individualized eda. Starting with our targe."
   ]
  },
  {
   "cell_type": "code",
   "execution_count": 20,
   "id": "0fa99564",
   "metadata": {},
   "outputs": [
    {
     "data": {
      "text/plain": [
       "target\n",
       "Graduate    36282\n",
       "Dropout     25296\n",
       "Enrolled    14940\n",
       "Name: count, dtype: int64"
      ]
     },
     "execution_count": 20,
     "metadata": {},
     "output_type": "execute_result"
    }
   ],
   "source": [
    "df['target'].value_counts() #Hmm, quite a lot of enrolled. Guess the 'data' was meant to just see if we can distinguish the\n",
    "#various possibilities. Iemor likely to be single...\n",
    "\n",
    "#Of note also is the vast amount of dropouts.... perhaps snythetic but still... what kind of school is this?!!?"
   ]
  },
  {
   "cell_type": "code",
   "execution_count": 29,
   "id": "4e33cb7c",
   "metadata": {},
   "outputs": [],
   "source": [
    "i = 1"
   ]
  },
  {
   "cell_type": "code",
   "execution_count": 34,
   "id": "03ec66e7",
   "metadata": {},
   "outputs": [],
   "source": [
    "# df.iloc[:, i:i+5].apply(pd.Series.value_counts) #Eh, when all over like with course won' work out...\n",
    "#Off hand I suppose I'll neeed to look at these somwhat individually; well, perhaps I can go through and parse them to see\n",
    "#what's categorical and look at those in a similar manner. So too with whatever other similar types..."
   ]
  },
  {
   "cell_type": "code",
   "execution_count": null,
   "id": "34a60477",
   "metadata": {},
   "outputs": [],
   "source": []
  },
  {
   "cell_type": "code",
   "execution_count": null,
   "id": "20df61bd",
   "metadata": {},
   "outputs": [],
   "source": []
  },
  {
   "cell_type": "code",
   "execution_count": null,
   "id": "00fc983e",
   "metadata": {},
   "outputs": [],
   "source": []
  },
  {
   "cell_type": "code",
   "execution_count": null,
   "id": "2928b2b1",
   "metadata": {},
   "outputs": [],
   "source": [
    "df.head()"
   ]
  }
 ],
 "metadata": {
  "kernelspec": {
   "display_name": "Python 3 (ipykernel)",
   "language": "python",
   "name": "python3"
  },
  "language_info": {
   "codemirror_mode": {
    "name": "ipython",
    "version": 3
   },
   "file_extension": ".py",
   "mimetype": "text/x-python",
   "name": "python",
   "nbconvert_exporter": "python",
   "pygments_lexer": "ipython3",
   "version": "3.11.5"
  }
 },
 "nbformat": 4,
 "nbformat_minor": 5
}
